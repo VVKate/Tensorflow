{
  "nbformat": 4,
  "nbformat_minor": 0,
  "metadata": {
    "colab": {
      "name": "24_Написание нейронных сетей с библиотекой TensorFlow. Часть 2",
      "provenance": [],
      "collapsed_sections": [],
      "toc_visible": true
    },
    "kernelspec": {
      "name": "python3",
      "display_name": "Python 3"
    },
    "accelerator": "GPU"
  },
  "cells": [
    {
      "cell_type": "markdown",
      "metadata": {
        "id": "pOt7vy4ttd2L"
      },
      "source": [
        "# **Домашнеее задание: Июльский курс (2020). Pro. Занятие 24**\n",
        "## **Написание нейронных сетей с библиотекой TensorFlow. Часть 2**\n",
        "## Верхошинская Катерина Викторовна"
      ]
    },
    {
      "cell_type": "markdown",
      "metadata": {
        "id": "nni1rGLZti02"
      },
      "source": [
        "## **LIGHT**"
      ]
    },
    {
      "cell_type": "markdown",
      "metadata": {
        "id": "hycO3PCdtoR6"
      },
      "source": [
        "### **Задание:**\n",
        "\n",
        "1. Возьмите шаблон ноутбука и напишите руками Dense или Conv сетку а также код для ее обучения на tensorflow 2.0 на cifar10 (датасет можно достать из keras datasets)\n",
        "2. Обучите построенную сеть\n"
      ]
    },
    {
      "cell_type": "markdown",
      "metadata": {
        "id": "bXrfyVpYtJMY"
      },
      "source": [
        "**Установим tensorflow==2.0, как требуется в задании**"
      ]
    },
    {
      "cell_type": "code",
      "metadata": {
        "colab": {
          "base_uri": "https://localhost:8080/"
        },
        "id": "utDfLx8mtGoV",
        "outputId": "6114c3f4-d54c-4de9-817c-6f1bd079ebda"
      },
      "source": [
        "!pip install tensorflow==2.0"
      ],
      "execution_count": null,
      "outputs": [
        {
          "output_type": "stream",
          "text": [
            "Collecting tensorflow==2.0\n",
            "\u001b[?25l  Downloading https://files.pythonhosted.org/packages/46/0f/7bd55361168bb32796b360ad15a25de6966c9c1beb58a8e30c01c8279862/tensorflow-2.0.0-cp36-cp36m-manylinux2010_x86_64.whl (86.3MB)\n",
            "\u001b[K     |████████████████████████████████| 86.3MB 52kB/s \n",
            "\u001b[?25hRequirement already satisfied: termcolor>=1.1.0 in /usr/local/lib/python3.6/dist-packages (from tensorflow==2.0) (1.1.0)\n",
            "Requirement already satisfied: wheel>=0.26 in /usr/local/lib/python3.6/dist-packages (from tensorflow==2.0) (0.36.2)\n",
            "Collecting tensorboard<2.1.0,>=2.0.0\n",
            "\u001b[?25l  Downloading https://files.pythonhosted.org/packages/76/54/99b9d5d52d5cb732f099baaaf7740403e83fe6b0cedde940fabd2b13d75a/tensorboard-2.0.2-py3-none-any.whl (3.8MB)\n",
            "\u001b[K     |████████████████████████████████| 3.8MB 39.6MB/s \n",
            "\u001b[?25hCollecting keras-applications>=1.0.8\n",
            "\u001b[?25l  Downloading https://files.pythonhosted.org/packages/71/e3/19762fdfc62877ae9102edf6342d71b28fbfd9dea3d2f96a882ce099b03f/Keras_Applications-1.0.8-py3-none-any.whl (50kB)\n",
            "\u001b[K     |████████████████████████████████| 51kB 8.7MB/s \n",
            "\u001b[?25hRequirement already satisfied: grpcio>=1.8.6 in /usr/local/lib/python3.6/dist-packages (from tensorflow==2.0) (1.32.0)\n",
            "Requirement already satisfied: keras-preprocessing>=1.0.5 in /usr/local/lib/python3.6/dist-packages (from tensorflow==2.0) (1.1.2)\n",
            "Requirement already satisfied: absl-py>=0.7.0 in /usr/local/lib/python3.6/dist-packages (from tensorflow==2.0) (0.10.0)\n",
            "Requirement already satisfied: six>=1.10.0 in /usr/local/lib/python3.6/dist-packages (from tensorflow==2.0) (1.15.0)\n",
            "Requirement already satisfied: astor>=0.6.0 in /usr/local/lib/python3.6/dist-packages (from tensorflow==2.0) (0.8.1)\n",
            "Requirement already satisfied: opt-einsum>=2.3.2 in /usr/local/lib/python3.6/dist-packages (from tensorflow==2.0) (3.3.0)\n",
            "Requirement already satisfied: protobuf>=3.6.1 in /usr/local/lib/python3.6/dist-packages (from tensorflow==2.0) (3.12.4)\n",
            "Collecting tensorflow-estimator<2.1.0,>=2.0.0\n",
            "\u001b[?25l  Downloading https://files.pythonhosted.org/packages/fc/08/8b927337b7019c374719145d1dceba21a8bb909b93b1ad6f8fb7d22c1ca1/tensorflow_estimator-2.0.1-py2.py3-none-any.whl (449kB)\n",
            "\u001b[K     |████████████████████████████████| 450kB 50.8MB/s \n",
            "\u001b[?25hRequirement already satisfied: google-pasta>=0.1.6 in /usr/local/lib/python3.6/dist-packages (from tensorflow==2.0) (0.2.0)\n",
            "Requirement already satisfied: numpy<2.0,>=1.16.0 in /usr/local/lib/python3.6/dist-packages (from tensorflow==2.0) (1.19.5)\n",
            "Requirement already satisfied: wrapt>=1.11.1 in /usr/local/lib/python3.6/dist-packages (from tensorflow==2.0) (1.12.1)\n",
            "Collecting gast==0.2.2\n",
            "  Downloading https://files.pythonhosted.org/packages/4e/35/11749bf99b2d4e3cceb4d55ca22590b0d7c2c62b9de38ac4a4a7f4687421/gast-0.2.2.tar.gz\n",
            "Requirement already satisfied: markdown>=2.6.8 in /usr/local/lib/python3.6/dist-packages (from tensorboard<2.1.0,>=2.0.0->tensorflow==2.0) (3.3.3)\n",
            "Requirement already satisfied: google-auth-oauthlib<0.5,>=0.4.1 in /usr/local/lib/python3.6/dist-packages (from tensorboard<2.1.0,>=2.0.0->tensorflow==2.0) (0.4.2)\n",
            "Requirement already satisfied: setuptools>=41.0.0 in /usr/local/lib/python3.6/dist-packages (from tensorboard<2.1.0,>=2.0.0->tensorflow==2.0) (53.0.0)\n",
            "Requirement already satisfied: werkzeug>=0.11.15 in /usr/local/lib/python3.6/dist-packages (from tensorboard<2.1.0,>=2.0.0->tensorflow==2.0) (1.0.1)\n",
            "Requirement already satisfied: google-auth<2,>=1.6.3 in /usr/local/lib/python3.6/dist-packages (from tensorboard<2.1.0,>=2.0.0->tensorflow==2.0) (1.25.0)\n",
            "Requirement already satisfied: requests<3,>=2.21.0 in /usr/local/lib/python3.6/dist-packages (from tensorboard<2.1.0,>=2.0.0->tensorflow==2.0) (2.23.0)\n",
            "Requirement already satisfied: h5py in /usr/local/lib/python3.6/dist-packages (from keras-applications>=1.0.8->tensorflow==2.0) (2.10.0)\n",
            "Requirement already satisfied: importlib-metadata; python_version < \"3.8\" in /usr/local/lib/python3.6/dist-packages (from markdown>=2.6.8->tensorboard<2.1.0,>=2.0.0->tensorflow==2.0) (3.4.0)\n",
            "Requirement already satisfied: requests-oauthlib>=0.7.0 in /usr/local/lib/python3.6/dist-packages (from google-auth-oauthlib<0.5,>=0.4.1->tensorboard<2.1.0,>=2.0.0->tensorflow==2.0) (1.3.0)\n",
            "Requirement already satisfied: cachetools<5.0,>=2.0.0 in /usr/local/lib/python3.6/dist-packages (from google-auth<2,>=1.6.3->tensorboard<2.1.0,>=2.0.0->tensorflow==2.0) (4.2.1)\n",
            "Requirement already satisfied: pyasn1-modules>=0.2.1 in /usr/local/lib/python3.6/dist-packages (from google-auth<2,>=1.6.3->tensorboard<2.1.0,>=2.0.0->tensorflow==2.0) (0.2.8)\n",
            "Requirement already satisfied: rsa<5,>=3.1.4; python_version >= \"3.6\" in /usr/local/lib/python3.6/dist-packages (from google-auth<2,>=1.6.3->tensorboard<2.1.0,>=2.0.0->tensorflow==2.0) (4.7)\n",
            "Requirement already satisfied: urllib3!=1.25.0,!=1.25.1,<1.26,>=1.21.1 in /usr/local/lib/python3.6/dist-packages (from requests<3,>=2.21.0->tensorboard<2.1.0,>=2.0.0->tensorflow==2.0) (1.24.3)\n",
            "Requirement already satisfied: certifi>=2017.4.17 in /usr/local/lib/python3.6/dist-packages (from requests<3,>=2.21.0->tensorboard<2.1.0,>=2.0.0->tensorflow==2.0) (2020.12.5)\n",
            "Requirement already satisfied: chardet<4,>=3.0.2 in /usr/local/lib/python3.6/dist-packages (from requests<3,>=2.21.0->tensorboard<2.1.0,>=2.0.0->tensorflow==2.0) (3.0.4)\n",
            "Requirement already satisfied: idna<3,>=2.5 in /usr/local/lib/python3.6/dist-packages (from requests<3,>=2.21.0->tensorboard<2.1.0,>=2.0.0->tensorflow==2.0) (2.10)\n",
            "Requirement already satisfied: typing-extensions>=3.6.4; python_version < \"3.8\" in /usr/local/lib/python3.6/dist-packages (from importlib-metadata; python_version < \"3.8\"->markdown>=2.6.8->tensorboard<2.1.0,>=2.0.0->tensorflow==2.0) (3.7.4.3)\n",
            "Requirement already satisfied: zipp>=0.5 in /usr/local/lib/python3.6/dist-packages (from importlib-metadata; python_version < \"3.8\"->markdown>=2.6.8->tensorboard<2.1.0,>=2.0.0->tensorflow==2.0) (3.4.0)\n",
            "Requirement already satisfied: oauthlib>=3.0.0 in /usr/local/lib/python3.6/dist-packages (from requests-oauthlib>=0.7.0->google-auth-oauthlib<0.5,>=0.4.1->tensorboard<2.1.0,>=2.0.0->tensorflow==2.0) (3.1.0)\n",
            "Requirement already satisfied: pyasn1<0.5.0,>=0.4.6 in /usr/local/lib/python3.6/dist-packages (from pyasn1-modules>=0.2.1->google-auth<2,>=1.6.3->tensorboard<2.1.0,>=2.0.0->tensorflow==2.0) (0.4.8)\n",
            "Building wheels for collected packages: gast\n",
            "  Building wheel for gast (setup.py) ... \u001b[?25l\u001b[?25hdone\n",
            "  Created wheel for gast: filename=gast-0.2.2-cp36-none-any.whl size=7540 sha256=bd8ac064d837de1c43273ec720b128d9b42aaea049586f53bb72f3f27f759eba\n",
            "  Stored in directory: /root/.cache/pip/wheels/5c/2e/7e/a1d4d4fcebe6c381f378ce7743a3ced3699feb89bcfbdadadd\n",
            "Successfully built gast\n",
            "\u001b[31mERROR: tensorflow-probability 0.12.1 has requirement gast>=0.3.2, but you'll have gast 0.2.2 which is incompatible.\u001b[0m\n",
            "Installing collected packages: tensorboard, keras-applications, tensorflow-estimator, gast, tensorflow\n",
            "  Found existing installation: tensorboard 2.4.1\n",
            "    Uninstalling tensorboard-2.4.1:\n",
            "      Successfully uninstalled tensorboard-2.4.1\n",
            "  Found existing installation: tensorflow-estimator 2.4.0\n",
            "    Uninstalling tensorflow-estimator-2.4.0:\n",
            "      Successfully uninstalled tensorflow-estimator-2.4.0\n",
            "  Found existing installation: gast 0.3.3\n",
            "    Uninstalling gast-0.3.3:\n",
            "      Successfully uninstalled gast-0.3.3\n",
            "  Found existing installation: tensorflow 2.4.1\n",
            "    Uninstalling tensorflow-2.4.1:\n",
            "      Successfully uninstalled tensorflow-2.4.1\n",
            "Successfully installed gast-0.2.2 keras-applications-1.0.8 tensorboard-2.0.2 tensorflow-2.0.0 tensorflow-estimator-2.0.1\n"
          ],
          "name": "stdout"
        }
      ]
    },
    {
      "cell_type": "markdown",
      "metadata": {
        "id": "Yg9rvT45vBuT"
      },
      "source": [
        "\n",
        "\n",
        "**Проверим что версия, правильная**"
      ]
    },
    {
      "cell_type": "code",
      "metadata": {
        "colab": {
          "base_uri": "https://localhost:8080/"
        },
        "id": "eCzU3BKOtMhp",
        "outputId": "52b6188d-939e-4649-f393-4f2413627ae8"
      },
      "source": [
        "import tensorflow as tf\n",
        "print(tf.__version__)"
      ],
      "execution_count": null,
      "outputs": [
        {
          "output_type": "stream",
          "text": [
            "2.0.0\n"
          ],
          "name": "stdout"
        }
      ]
    },
    {
      "cell_type": "markdown",
      "metadata": {
        "id": "ASv-k4FEP_8S"
      },
      "source": [
        "**Для решения данной задачи создадим полносвязную нейронную сеть**\n",
        "\n"
      ]
    },
    {
      "cell_type": "code",
      "metadata": {
        "id": "iczH7mSwP1W5"
      },
      "source": [
        "import tensorflow as tf #Импортируем tensorflow\n",
        "import datetime, os #Для подсчета времени и работы с файловой системой\n",
        "import numpy as np #Для работы с матрицами \n",
        "from tensorflow.keras import utils #Для работы с категориальными данными \n",
        "import sys #Для специльного вывода\n",
        "import matplotlib.pyplot as plt #Для виузализации \n",
        "import random #Для генерации случайных чисел "
      ],
      "execution_count": null,
      "outputs": []
    },
    {
      "cell_type": "code",
      "metadata": {
        "id": "2Vndx6fRQp3K"
      },
      "source": [
        "#Функция формирования датсета cifar10 \n",
        "def data_cifar10():\n",
        "  #Скачивааем датасет \n",
        "  (X_train, y_train), (X_test, y_test) = tf.keras.datasets.cifar10.load_data()\n",
        "    \n",
        "  #Для полносвязной сети вытягивание картинки из формы 32, 32, 3 в 3072 \n",
        "  X_train = X_train.reshape(-1, 3072)\n",
        "  X_test = X_test.reshape(-1, 3072)\n",
        "  #Первеодим во float\n",
        "  X_train = X_train.astype('float32')\n",
        "  X_test = X_test.astype('float32')\n",
        "  #Переводим все значения в диапазон от 0 до 1\n",
        "  X_train /= 255\n",
        "  X_test /= 255\n",
        "\n",
        "  print('Форма x_train:', X_train.shape)\n",
        "  print(X_train.shape[0], 'обучающих примеров')\n",
        "  print(X_test.shape[0], 'проверочных примеров')\n",
        "  #Переводим в OneHot\n",
        "  y_train = utils.to_categorical(y_train, 10).astype(np.float32)\n",
        "  y_test = utils.to_categorical(y_test, 10).astype(np.float32)\n",
        "  #Возвращаем датасет\n",
        "  return X_train, y_train, X_test, y_test #Возвращаем датасет "
      ],
      "execution_count": null,
      "outputs": []
    },
    {
      "cell_type": "code",
      "metadata": {
        "id": "k_RF7RpEQ5sx",
        "colab": {
          "base_uri": "https://localhost:8080/"
        },
        "outputId": "0c4ba58e-da40-4023-be65-458c33ce84a2"
      },
      "source": [
        "x_train, y_train, x_test, y_test = data_cifar10() #Загружаем датасет "
      ],
      "execution_count": null,
      "outputs": [
        {
          "output_type": "stream",
          "text": [
            "Downloading data from https://www.cs.toronto.edu/~kriz/cifar-10-python.tar.gz\n",
            "170500096/170498071 [==============================] - 2s 0us/step\n",
            "Форма x_train: (50000, 3072)\n",
            "50000 обучающих примеров\n",
            "10000 проверочных примеров\n"
          ],
          "name": "stdout"
        }
      ]
    },
    {
      "cell_type": "code",
      "metadata": {
        "id": "AT7NP8Cx-qC_"
      },
      "source": [
        "classes = ['самолет', 'автомобиль', 'птица', 'кот', 'олень', 'собака', 'лягушка', 'лошадь', 'корабль', 'грузовик']"
      ],
      "execution_count": null,
      "outputs": []
    },
    {
      "cell_type": "code",
      "metadata": {
        "id": "MQR_hRJcQ625"
      },
      "source": [
        "#Параметры обучения и оптимизации\n",
        "learningRate = 0.3\n",
        "epochs = 220\n",
        "batchSize = 200"
      ],
      "execution_count": null,
      "outputs": []
    },
    {
      "cell_type": "markdown",
      "metadata": {
        "id": "xOHgmTEbm2tv"
      },
      "source": [
        "**Зададим тренируемые параметры для сети из 2х полносвязных слоев на 600 и 300 нейронов**"
      ]
    },
    {
      "cell_type": "code",
      "metadata": {
        "id": "Bx2TG5tjTwyp"
      },
      "source": [
        "trainableParams = [] #Лист тренируемых параметров\n",
        "# Объявляем веса, W1\n",
        "trainableParams.append(tf.Variable(tf.random.normal([3072, 600], stddev=0.03), name='W1')) #600 размер скрытого слоя, инциалзириуем значения\n",
        "# Используя нормальное распределение со средним ноль и статистическим отклонением 0.03, определяем bias(Аналогичная есть у numpy)\n",
        "trainableParams.append(tf.Variable(tf.random.normal([600], stddev=0.03), name='b1'))\n",
        "\n",
        "# То же делаем для весов и bias(отклонения) от скрытого к выходному\n",
        "trainableParams.append(tf.Variable(tf.random.normal([600, 300], stddev=0.03), name='W2'))\n",
        "trainableParams.append(tf.Variable(tf.random.normal([300]), name='b2'))\n",
        "\n",
        "# для второго скрытоко слоя\n",
        "trainableParams.append(tf.Variable(tf.random.normal([300, 10], stddev=0.03), name='W3'))\n",
        "trainableParams.append(tf.Variable(tf.random.normal([10]), name='b3'))"
      ],
      "execution_count": null,
      "outputs": []
    },
    {
      "cell_type": "code",
      "metadata": {
        "id": "hERkriMDRBLz"
      },
      "source": [
        "#Функция подсчета ошибки\n",
        "def loss(pred , target):\n",
        "    return tf.losses.categorical_crossentropy(target , pred)"
      ],
      "execution_count": null,
      "outputs": []
    },
    {
      "cell_type": "code",
      "metadata": {
        "id": "XJ-VrWV_RB1v"
      },
      "source": [
        "#Полносвязный слой с несколькими функциями активации\n",
        "def dense(x , params):\n",
        "    W1 = params[0]\n",
        "    b1 = params[1]\n",
        "    W2 = params[2]\n",
        "    b2 = params[3]\n",
        "    W3 = params[4]\n",
        "    b3 = params[5]\n",
        "\n",
        "    hiddenOut = tf.nn.relu(x @ W1 + b1) #Умножаем вход на веса W1, прибавляем b1 и применяем функцию активации relu\n",
        "    d1 = tf.nn.relu(hiddenOut@W2+b2) #Умножаем выход скрытого слоя на веса W2, прибавляем b2 и применяем функцию активации softmax\n",
        "    y = tf.nn.softmax(d1@W3+b3)\n",
        "    return y"
      ],
      "execution_count": null,
      "outputs": []
    },
    {
      "cell_type": "code",
      "metadata": {
        "id": "d2LeDDs_RyD9"
      },
      "source": [
        "#Модель \n",
        "def model(x):\n",
        "    y = dense(x, trainableParams)\n",
        "    return y "
      ],
      "execution_count": null,
      "outputs": []
    },
    {
      "cell_type": "code",
      "metadata": {
        "id": "NeeRAPT1Rtxy",
        "colab": {
          "base_uri": "https://localhost:8080/"
        },
        "outputId": "d81df339-e031-4a87-ded4-ad2624b225e0"
      },
      "source": [
        "#Посмотрим, какой выход у модели, если на вход подать случайную картинку \n",
        "model(x_train[1][None,]) #Смотрим вывод сети для первого изображения из cifar10"
      ],
      "execution_count": null,
      "outputs": [
        {
          "output_type": "execute_result",
          "data": {
            "text/plain": [
              "<tf.Tensor: id=88, shape=(1, 10), dtype=float32, numpy=\n",
              "array([[0.13722365, 0.02531393, 0.21421145, 0.46556675, 0.00278556,\n",
              "        0.01874575, 0.03630792, 0.03108484, 0.03721285, 0.03154728]],\n",
              "      dtype=float32)>"
            ]
          },
          "metadata": {
            "tags": []
          },
          "execution_count": 12
        }
      ]
    },
    {
      "cell_type": "code",
      "metadata": {
        "id": "L3ENT9j5WDTW"
      },
      "source": [
        "#Функция для информативного вывода обучения\n",
        "#На вход получает:\n",
        "# current - номер текущего батча\n",
        "# amount - число всех батчей \n",
        "# params - словарь дополнительных параметров для вывода \n",
        "\n",
        "def print_log(current, amount, params):\n",
        "  #Мы будем выводить прогрессбар, подобный прогрессбару при обучении нейронных сетей на Keras\n",
        "  #Формат прогрессбара 23/120 [=====>------------------------]\n",
        "  \n",
        "  bar_len = 30 #Длина бара \n",
        "  percent = int(current * bar_len / amount) #Процент выполненной работы\n",
        "  progressbar = ''\n",
        "\n",
        "  for i in range(bar_len): #Проходим по всем элементам прогрессбара и добавляем символы в соответсвии с прогресом \n",
        "    if(i < percent):\n",
        "      progressbar += '='\n",
        "    elif(i == percent):\n",
        "      progressbar += '>'\n",
        "    else:\n",
        "      progressbar += '-'\n",
        "\n",
        "  #Добавялем в финальное сообщение символ переноса коретки консоли на начальную строку, добавляпем информацию о номере батча\n",
        "  #количестве всех батчей, прогрессбар\n",
        "  #Символ переноса коретки \\r добавляется для того, чтобы каждый новый батч перезаписывать вывод. Таким образом вывод не будет засоряться повторяющейся информацией\n",
        "  message = \"\\r\" + str(current) + '/' + str(amount) + ' [' + progressbar + ']  ' \n",
        "  #Добавляем дополнительные параметры в вывод\n",
        "  for key in params:\n",
        "    message += key + str(params[key]) + '. '\n",
        "  \n",
        "  #Выводим информацию аналогом print. Используется именно эта функция, так как она позволяет осуществлять перенос каретки \n",
        "  sys.stdout.write(message)\n",
        "  #Очищаем буфер вывода\n",
        "  sys.stdout.flush()"
      ],
      "execution_count": null,
      "outputs": []
    },
    {
      "cell_type": "code",
      "metadata": {
        "id": "o3FY0QRpTa1r"
      },
      "source": [
        "optimizer = tf.keras.optimizers.SGD(learning_rate=learningRate) #Задаем оптимизатор \n",
        "m = tf.keras.metrics.Accuracy() #Задаем метрику\n",
        "\n",
        "def train(model, inputs, outputs): #Функция тренировки сети \n",
        "\n",
        "    with tf.GradientTape() as tape:\n",
        "      current_loss = tf.reduce_mean(loss(model(inputs), outputs)) #Считаем ошибку\n",
        "\n",
        "      # Градиентный спуск. Инициализируем через learning rate\n",
        "      # Функция реализует градиентный спуск и обратное распространение ошибки.\n",
        "      grads = tape.gradient(current_loss , trainableParams)\n",
        "      #Применение градиентного спуска\n",
        "      optimizer.apply_gradients(zip(grads , trainableParams))\n",
        "      #Подсчет точности сети \n",
        "      m.update_state(np.argmax(outputs, axis=1), np.argmax(model(inputs), axis=1))\n",
        "    return current_loss, m.result().numpy()"
      ],
      "execution_count": null,
      "outputs": []
    },
    {
      "cell_type": "code",
      "metadata": {
        "id": "flwDnYKsZL4v",
        "colab": {
          "base_uri": "https://localhost:8080/"
        },
        "outputId": "6d289651-7bf9-4d84-9e75-e423bdf20fd9"
      },
      "source": [
        "!rm -R /tmp/mylogs/eager #Очищаем папку с записанной информацией обучения (если код запускается не в первый раз)"
      ],
      "execution_count": null,
      "outputs": [
        {
          "output_type": "stream",
          "text": [
            "rm: cannot remove '/tmp/mylogs/eager': No such file or directory\n"
          ],
          "name": "stdout"
        }
      ]
    },
    {
      "cell_type": "code",
      "metadata": {
        "id": "MDKGa1IyXUwp",
        "colab": {
          "base_uri": "https://localhost:8080/"
        },
        "outputId": "dbf423a1-64ed-4f38-a269-9ef2e258bdff"
      },
      "source": [
        "path = '/tmp/mylogs/eager/' #Указываем путь для сохранения даных для Tensorboard\n",
        "\n",
        "current_time = datetime.datetime.now().strftime(\"%Y%m%d-%H%M%S\") #Получаем информацию о текущем времени для добавления данной информации к имени  \n",
        "loss_log_dir = path + current_time + '/data' #Создаем папку с именем из текущего времени\n",
        "loss_summary_writer = tf.summary.create_file_writer(loss_log_dir) #Создаем средство записи файла резюме для данного каталога\n",
        "\n",
        "amount_bathces = int(len(x_train) / batchSize) #Считаем число батчей для каждой эпохи. Понадобится для вывода\n",
        "\n",
        "with loss_summary_writer.as_default(): #Используя созданное средство для записи файла в резюме \n",
        " \n",
        "  for epoch in range(1, epochs + 1): #Проходим по каждой эпохе\n",
        "    learningEpochStartTime = datetime.datetime.now() #Запоминаем время начала эпохи \n",
        "    print('Эпоха', epoch , '/', epochs) #Пишем текущую эпоху и общее число эпох\n",
        "    avg_loss = 0 #Задаем среднюю ошибку\n",
        "\n",
        "    for batch in range(0, len(x_train), batchSize): #Проходим по x_train с шагом batchSize\n",
        "\n",
        "      current_loss, accuracy = train(model, x_train[batch: batch + batchSize], y_train[batch: batch + batchSize]) #Тренируем сеть и получаем значение ошибки\n",
        "      avg_loss += current_loss #Считаем среднюю ошибку\n",
        "\n",
        "      #Задаем параметры, которые будем выводить \n",
        "      params = {'Время обучения на эпохе: ': datetime.datetime.now() - learningEpochStartTime, #Считаем время обучения на данной эпохе и добавляем в словарь\n",
        "                'loss: ': round(current_loss.numpy(), 4), #Переводим ошибку в Numpy и добавляем в словарь\n",
        "                'accuracy: ': round(accuracy, 4)} #Добавляем точность в словарь\n",
        "      if(batch >= len(x_train) - batchSize): #На последнем батче\n",
        "        params['loss: '] = round((avg_loss / amount_bathces).numpy(), 4) #Выводим среднюю ошибку на всей эпохе\n",
        "\n",
        "      current_batch = int(batch / batchSize) + 1 #Считаем номер текущего батча\n",
        "      print_log(current_batch, amount_bathces, params) #Выводим всю нужную информацию \n",
        "    \n",
        "    tf.summary.scalar(\"avg_loss\", avg_loss, step=epoch) #Сохраняем данные для Tensorboard\n",
        "    tf.summary.scalar(\"accuracy\", accuracy, step=epoch) #Сохраняем данные для Tensorboard\n",
        "    loss_summary_writer.flush() #Очищаем буфер вывода \n",
        "    print() #Вручную переносим каретку на следующую строку, чтобы не стирать финальные значения сети на эпохе"
      ],
      "execution_count": null,
      "outputs": [
        {
          "output_type": "stream",
          "text": [
            "Эпоха 1 / 220\n",
            "250/250 [==============================]  Время обучения на эпохе: 0:00:10.689057. loss: 2.141. accuracy: 0.2435. \n",
            "Эпоха 2 / 220\n",
            "250/250 [==============================]  Время обучения на эпохе: 0:00:10.823237. loss: 1.9058. accuracy: 0.2944. \n",
            "Эпоха 3 / 220\n",
            "250/250 [==============================]  Время обучения на эпохе: 0:00:10.796713. loss: 1.7784. accuracy: 0.3316. \n",
            "Эпоха 4 / 220\n",
            "250/250 [==============================]  Время обучения на эпохе: 0:00:10.746840. loss: 1.7087. accuracy: 0.3587. \n",
            "Эпоха 5 / 220\n",
            "250/250 [==============================]  Время обучения на эпохе: 0:00:11.030856. loss: 1.6489. accuracy: 0.3798. \n",
            "Эпоха 6 / 220\n",
            "250/250 [==============================]  Время обучения на эпохе: 0:00:10.830032. loss: 1.5922. accuracy: 0.3982. \n",
            "Эпоха 7 / 220\n",
            "250/250 [==============================]  Время обучения на эпохе: 0:00:10.655494. loss: 1.5549. accuracy: 0.4136. \n",
            "Эпоха 8 / 220\n",
            "250/250 [==============================]  Время обучения на эпохе: 0:00:10.890161. loss: 1.511. accuracy: 0.4278. \n",
            "Эпоха 9 / 220\n",
            "250/250 [==============================]  Время обучения на эпохе: 0:00:11.006996. loss: 1.4755. accuracy: 0.4407. \n",
            "Эпоха 10 / 220\n",
            "250/250 [==============================]  Время обучения на эпохе: 0:00:10.966067. loss: 1.445. accuracy: 0.4527. \n",
            "Эпоха 11 / 220\n",
            "250/250 [==============================]  Время обучения на эпохе: 0:00:10.966095. loss: 1.418. accuracy: 0.4637. \n",
            "Эпоха 12 / 220\n",
            "250/250 [==============================]  Время обучения на эпохе: 0:00:10.951564. loss: 1.3791. accuracy: 0.4744. \n",
            "Эпоха 13 / 220\n",
            "250/250 [==============================]  Время обучения на эпохе: 0:00:10.851566. loss: 1.3564. accuracy: 0.4845. \n",
            "Эпоха 14 / 220\n",
            "250/250 [==============================]  Время обучения на эпохе: 0:00:11.146741. loss: 1.3349. accuracy: 0.494. \n",
            "Эпоха 15 / 220\n",
            "250/250 [==============================]  Время обучения на эпохе: 0:00:11.115423. loss: 1.304. accuracy: 0.5033. \n",
            "Эпоха 16 / 220\n",
            "250/250 [==============================]  Время обучения на эпохе: 0:00:10.893947. loss: 1.2771. accuracy: 0.5123. \n",
            "Эпоха 17 / 220\n",
            "250/250 [==============================]  Время обучения на эпохе: 0:00:10.916786. loss: 1.2627. accuracy: 0.5206. \n",
            "Эпоха 18 / 220\n",
            "250/250 [==============================]  Время обучения на эпохе: 0:00:10.970935. loss: 1.2262. accuracy: 0.529. \n",
            "Эпоха 19 / 220\n",
            "250/250 [==============================]  Время обучения на эпохе: 0:00:11.123580. loss: 1.2266. accuracy: 0.5367. \n",
            "Эпоха 20 / 220\n",
            "250/250 [==============================]  Время обучения на эпохе: 0:00:11.215508. loss: 1.1786. accuracy: 0.5446. \n",
            "Эпоха 21 / 220\n",
            "250/250 [==============================]  Время обучения на эпохе: 0:00:11.082581. loss: 1.1674. accuracy: 0.5521. \n",
            "Эпоха 22 / 220\n",
            "250/250 [==============================]  Время обучения на эпохе: 0:00:11.134078. loss: 1.1318. accuracy: 0.5596. \n",
            "Эпоха 23 / 220\n",
            "250/250 [==============================]  Время обучения на эпохе: 0:00:10.882896. loss: 1.1253. accuracy: 0.5668. \n",
            "Эпоха 24 / 220\n",
            "250/250 [==============================]  Время обучения на эпохе: 0:00:10.862514. loss: 1.097. accuracy: 0.5737. \n",
            "Эпоха 25 / 220\n",
            "250/250 [==============================]  Время обучения на эпохе: 0:00:10.899220. loss: 1.0729. accuracy: 0.5805. \n",
            "Эпоха 26 / 220\n",
            "250/250 [==============================]  Время обучения на эпохе: 0:00:11.122235. loss: 1.0597. accuracy: 0.5871. \n",
            "Эпоха 27 / 220\n",
            "250/250 [==============================]  Время обучения на эпохе: 0:00:11.016513. loss: 1.0325. accuracy: 0.5934. \n",
            "Эпоха 28 / 220\n",
            "250/250 [==============================]  Время обучения на эпохе: 0:00:11.361882. loss: 1.0275. accuracy: 0.5995. \n",
            "Эпоха 29 / 220\n",
            "250/250 [==============================]  Время обучения на эпохе: 0:00:11.450072. loss: 0.9899. accuracy: 0.6056. \n",
            "Эпоха 30 / 220\n",
            "250/250 [==============================]  Время обучения на эпохе: 0:00:11.196659. loss: 0.9786. accuracy: 0.6115. \n",
            "Эпоха 31 / 220\n",
            "250/250 [==============================]  Время обучения на эпохе: 0:00:10.917000. loss: 0.9566. accuracy: 0.6173. \n",
            "Эпоха 32 / 220\n",
            "250/250 [==============================]  Время обучения на эпохе: 0:00:11.172349. loss: 0.948. accuracy: 0.6228. \n",
            "Эпоха 33 / 220\n",
            "250/250 [==============================]  Время обучения на эпохе: 0:00:11.169023. loss: 0.9167. accuracy: 0.6284. \n",
            "Эпоха 34 / 220\n",
            "250/250 [==============================]  Время обучения на эпохе: 0:00:11.155534. loss: 0.8936. accuracy: 0.6338. \n",
            "Эпоха 35 / 220\n",
            "250/250 [==============================]  Время обучения на эпохе: 0:00:11.114618. loss: 0.8726. accuracy: 0.6391. \n",
            "Эпоха 36 / 220\n",
            "250/250 [==============================]  Время обучения на эпохе: 0:00:11.331520. loss: 0.8553. accuracy: 0.6443. \n",
            "Эпоха 37 / 220\n",
            "250/250 [==============================]  Время обучения на эпохе: 0:00:11.122149. loss: 0.8524. accuracy: 0.6492. \n",
            "Эпоха 38 / 220\n",
            "250/250 [==============================]  Время обучения на эпохе: 0:00:11.155195. loss: 0.8342. accuracy: 0.6541. \n",
            "Эпоха 39 / 220\n",
            "250/250 [==============================]  Время обучения на эпохе: 0:00:11.225229. loss: 0.8163. accuracy: 0.6588. \n",
            "Эпоха 40 / 220\n",
            "250/250 [==============================]  Время обучения на эпохе: 0:00:11.152162. loss: 0.7865. accuracy: 0.6636. \n",
            "Эпоха 41 / 220\n",
            "250/250 [==============================]  Время обучения на эпохе: 0:00:11.145446. loss: 0.7856. accuracy: 0.668. \n",
            "Эпоха 42 / 220\n",
            "250/250 [==============================]  Время обучения на эпохе: 0:00:11.520140. loss: 0.7659. accuracy: 0.6725. \n",
            "Эпоха 43 / 220\n",
            "250/250 [==============================]  Время обучения на эпохе: 0:00:11.089248. loss: 0.7532. accuracy: 0.6767. \n",
            "Эпоха 44 / 220\n",
            "250/250 [==============================]  Время обучения на эпохе: 0:00:11.138479. loss: 0.7362. accuracy: 0.6809. \n",
            "Эпоха 45 / 220\n",
            "250/250 [==============================]  Время обучения на эпохе: 0:00:11.014434. loss: 0.7002. accuracy: 0.6852. \n",
            "Эпоха 46 / 220\n",
            "250/250 [==============================]  Время обучения на эпохе: 0:00:11.160533. loss: 0.7076. accuracy: 0.6892. \n",
            "Эпоха 47 / 220\n",
            "250/250 [==============================]  Время обучения на эпохе: 0:00:11.162586. loss: 0.6798. accuracy: 0.6932. \n",
            "Эпоха 48 / 220\n",
            "250/250 [==============================]  Время обучения на эпохе: 0:00:11.069592. loss: 0.6577. accuracy: 0.6971. \n",
            "Эпоха 49 / 220\n",
            "250/250 [==============================]  Время обучения на эпохе: 0:00:11.314312. loss: 0.6586. accuracy: 0.7009. \n",
            "Эпоха 50 / 220\n",
            "250/250 [==============================]  Время обучения на эпохе: 0:00:11.197430. loss: 0.673. accuracy: 0.7044. \n",
            "Эпоха 51 / 220\n",
            "250/250 [==============================]  Время обучения на эпохе: 0:00:11.010872. loss: 0.6452. accuracy: 0.708. \n",
            "Эпоха 52 / 220\n",
            "250/250 [==============================]  Время обучения на эпохе: 0:00:11.114996. loss: 0.6352. accuracy: 0.7115. \n",
            "Эпоха 53 / 220\n",
            "250/250 [==============================]  Время обучения на эпохе: 0:00:11.392760. loss: 0.6108. accuracy: 0.715. \n",
            "Эпоха 54 / 220\n",
            "250/250 [==============================]  Время обучения на эпохе: 0:00:10.925812. loss: 0.5998. accuracy: 0.7184. \n",
            "Эпоха 55 / 220\n",
            "250/250 [==============================]  Время обучения на эпохе: 0:00:11.038525. loss: 0.5877. accuracy: 0.7217. \n",
            "Эпоха 56 / 220\n",
            "250/250 [==============================]  Время обучения на эпохе: 0:00:11.306015. loss: 0.5641. accuracy: 0.7251. \n",
            "Эпоха 57 / 220\n",
            "250/250 [==============================]  Время обучения на эпохе: 0:00:11.302613. loss: 0.5647. accuracy: 0.7282. \n",
            "Эпоха 58 / 220\n",
            "250/250 [==============================]  Время обучения на эпохе: 0:00:11.048052. loss: 0.5506. accuracy: 0.7314. \n",
            "Эпоха 59 / 220\n",
            "250/250 [==============================]  Время обучения на эпохе: 0:00:11.355818. loss: 0.5436. accuracy: 0.7344. \n",
            "Эпоха 60 / 220\n",
            "250/250 [==============================]  Время обучения на эпохе: 0:00:11.054979. loss: 0.5438. accuracy: 0.7373. \n",
            "Эпоха 61 / 220\n",
            "250/250 [==============================]  Время обучения на эпохе: 0:00:11.199502. loss: 0.5105. accuracy: 0.7403. \n",
            "Эпоха 62 / 220\n",
            "250/250 [==============================]  Время обучения на эпохе: 0:00:11.130958. loss: 0.5155. accuracy: 0.7432. \n",
            "Эпоха 63 / 220\n",
            "250/250 [==============================]  Время обучения на эпохе: 0:00:11.345210. loss: 0.5187. accuracy: 0.746. \n",
            "Эпоха 64 / 220\n",
            "250/250 [==============================]  Время обучения на эпохе: 0:00:11.372313. loss: 0.4735. accuracy: 0.7488. \n",
            "Эпоха 65 / 220\n",
            "250/250 [==============================]  Время обучения на эпохе: 0:00:11.209600. loss: 0.4875. accuracy: 0.7515. \n",
            "Эпоха 66 / 220\n",
            "250/250 [==============================]  Время обучения на эпохе: 0:00:11.314033. loss: 0.5192. accuracy: 0.754. \n",
            "Эпоха 67 / 220\n",
            "250/250 [==============================]  Время обучения на эпохе: 0:00:11.301606. loss: 0.4778. accuracy: 0.7566. \n",
            "Эпоха 68 / 220\n",
            "250/250 [==============================]  Время обучения на эпохе: 0:00:11.349610. loss: 0.4465. accuracy: 0.7592. \n",
            "Эпоха 69 / 220\n",
            "250/250 [==============================]  Время обучения на эпохе: 0:00:11.528799. loss: 0.4655. accuracy: 0.7617. \n",
            "Эпоха 70 / 220\n",
            "250/250 [==============================]  Время обучения на эпохе: 0:00:11.434197. loss: 0.4374. accuracy: 0.7642. \n",
            "Эпоха 71 / 220\n",
            "250/250 [==============================]  Время обучения на эпохе: 0:00:11.416774. loss: 0.4407. accuracy: 0.7666. \n",
            "Эпоха 72 / 220\n",
            "250/250 [==============================]  Время обучения на эпохе: 0:00:11.228985. loss: 0.4092. accuracy: 0.7691. \n",
            "Эпоха 73 / 220\n",
            "250/250 [==============================]  Время обучения на эпохе: 0:00:11.466849. loss: 0.4382. accuracy: 0.7713. \n",
            "Эпоха 74 / 220\n",
            "250/250 [==============================]  Время обучения на эпохе: 0:00:11.487240. loss: 0.4306. accuracy: 0.7736. \n",
            "Эпоха 75 / 220\n",
            "250/250 [==============================]  Время обучения на эпохе: 0:00:11.509196. loss: 0.397. accuracy: 0.7759. \n",
            "Эпоха 76 / 220\n",
            "250/250 [==============================]  Время обучения на эпохе: 0:00:11.317433. loss: 0.3987. accuracy: 0.7781. \n",
            "Эпоха 77 / 220\n",
            "250/250 [==============================]  Время обучения на эпохе: 0:00:11.267550. loss: 0.427. accuracy: 0.7802. \n",
            "Эпоха 78 / 220\n",
            "250/250 [==============================]  Время обучения на эпохе: 0:00:11.454540. loss: 0.4056. accuracy: 0.7823. \n",
            "Эпоха 79 / 220\n",
            "250/250 [==============================]  Время обучения на эпохе: 0:00:11.372941. loss: 0.4124. accuracy: 0.7842. \n",
            "Эпоха 80 / 220\n",
            "250/250 [==============================]  Время обучения на эпохе: 0:00:11.470577. loss: 0.3815. accuracy: 0.7863. \n",
            "Эпоха 81 / 220\n",
            "250/250 [==============================]  Время обучения на эпохе: 0:00:11.256323. loss: 0.3484. accuracy: 0.7884. \n",
            "Эпоха 82 / 220\n",
            "250/250 [==============================]  Время обучения на эпохе: 0:00:11.414297. loss: 0.3742. accuracy: 0.7903. \n",
            "Эпоха 83 / 220\n",
            "250/250 [==============================]  Время обучения на эпохе: 0:00:11.478422. loss: 0.3534. accuracy: 0.7923. \n",
            "Эпоха 84 / 220\n",
            "250/250 [==============================]  Время обучения на эпохе: 0:00:11.613285. loss: 0.3639. accuracy: 0.7942. \n",
            "Эпоха 85 / 220\n",
            "250/250 [==============================]  Время обучения на эпохе: 0:00:11.554260. loss: 0.3615. accuracy: 0.7961. \n",
            "Эпоха 86 / 220\n",
            "250/250 [==============================]  Время обучения на эпохе: 0:00:11.121015. loss: 0.3198. accuracy: 0.798. \n",
            "Эпоха 87 / 220\n",
            "250/250 [==============================]  Время обучения на эпохе: 0:00:11.470995. loss: 0.3977. accuracy: 0.7997. \n",
            "Эпоха 88 / 220\n",
            "250/250 [==============================]  Время обучения на эпохе: 0:00:11.380004. loss: 0.321. accuracy: 0.8015. \n",
            "Эпоха 89 / 220\n",
            "250/250 [==============================]  Время обучения на эпохе: 0:00:11.243384. loss: 0.3393. accuracy: 0.8032. \n",
            "Эпоха 90 / 220\n",
            "250/250 [==============================]  Время обучения на эпохе: 0:00:11.473117. loss: 0.3123. accuracy: 0.805. \n",
            "Эпоха 91 / 220\n",
            "250/250 [==============================]  Время обучения на эпохе: 0:00:11.298036. loss: 0.329. accuracy: 0.8067. \n",
            "Эпоха 92 / 220\n",
            "250/250 [==============================]  Время обучения на эпохе: 0:00:11.396113. loss: 0.3376. accuracy: 0.8083. \n",
            "Эпоха 93 / 220\n",
            "250/250 [==============================]  Время обучения на эпохе: 0:00:11.502693. loss: 0.3341. accuracy: 0.8099. \n",
            "Эпоха 94 / 220\n",
            "250/250 [==============================]  Время обучения на эпохе: 0:00:11.442055. loss: 0.3664. accuracy: 0.8114. \n",
            "Эпоха 95 / 220\n",
            "250/250 [==============================]  Время обучения на эпохе: 0:00:11.474140. loss: 0.3012. accuracy: 0.813. \n",
            "Эпоха 96 / 220\n",
            "250/250 [==============================]  Время обучения на эпохе: 0:00:11.762964. loss: 0.268. accuracy: 0.8146. \n",
            "Эпоха 97 / 220\n",
            "250/250 [==============================]  Время обучения на эпохе: 0:00:11.382123. loss: 0.2789. accuracy: 0.8162. \n",
            "Эпоха 98 / 220\n",
            "250/250 [==============================]  Время обучения на эпохе: 0:00:11.288764. loss: 0.2941. accuracy: 0.8177. \n",
            "Эпоха 99 / 220\n",
            "250/250 [==============================]  Время обучения на эпохе: 0:00:11.655575. loss: 0.2674. accuracy: 0.8192. \n",
            "Эпоха 100 / 220\n",
            "250/250 [==============================]  Время обучения на эпохе: 0:00:11.382220. loss: 0.2994. accuracy: 0.8207. \n",
            "Эпоха 101 / 220\n",
            "250/250 [==============================]  Время обучения на эпохе: 0:00:11.501607. loss: 0.2987. accuracy: 0.8221. \n",
            "Эпоха 102 / 220\n",
            "250/250 [==============================]  Время обучения на эпохе: 0:00:11.428011. loss: 0.2893. accuracy: 0.8235. \n",
            "Эпоха 103 / 220\n",
            "250/250 [==============================]  Время обучения на эпохе: 0:00:11.404247. loss: 0.2769. accuracy: 0.8249. \n",
            "Эпоха 104 / 220\n",
            "250/250 [==============================]  Время обучения на эпохе: 0:00:11.458918. loss: 0.2862. accuracy: 0.8262. \n",
            "Эпоха 105 / 220\n",
            "250/250 [==============================]  Время обучения на эпохе: 0:00:11.634802. loss: 0.2969. accuracy: 0.8275. \n",
            "Эпоха 106 / 220\n",
            "250/250 [==============================]  Время обучения на эпохе: 0:00:11.654611. loss: 0.2509. accuracy: 0.8289. \n",
            "Эпоха 107 / 220\n",
            "250/250 [==============================]  Время обучения на эпохе: 0:00:11.511690. loss: 0.258. accuracy: 0.8302. \n",
            "Эпоха 108 / 220\n",
            "250/250 [==============================]  Время обучения на эпохе: 0:00:11.569807. loss: 0.3758. accuracy: 0.8314. \n",
            "Эпоха 109 / 220\n",
            "250/250 [==============================]  Время обучения на эпохе: 0:00:11.634590. loss: 0.2778. accuracy: 0.8326. \n",
            "Эпоха 110 / 220\n",
            "250/250 [==============================]  Время обучения на эпохе: 0:00:11.726942. loss: 0.1985. accuracy: 0.834. \n",
            "Эпоха 111 / 220\n",
            "250/250 [==============================]  Время обучения на эпохе: 0:00:12.001408. loss: 0.2648. accuracy: 0.8352. \n",
            "Эпоха 112 / 220\n",
            "250/250 [==============================]  Время обучения на эпохе: 0:00:11.495316. loss: 0.2808. accuracy: 0.8364. \n",
            "Эпоха 113 / 220\n",
            "250/250 [==============================]  Время обучения на эпохе: 0:00:11.896909. loss: 0.2426. accuracy: 0.8376. \n",
            "Эпоха 114 / 220\n",
            "250/250 [==============================]  Время обучения на эпохе: 0:00:11.453976. loss: 0.27. accuracy: 0.8387. \n",
            "Эпоха 115 / 220\n",
            "250/250 [==============================]  Время обучения на эпохе: 0:00:11.564006. loss: 0.2308. accuracy: 0.8399. \n",
            "Эпоха 116 / 220\n",
            "250/250 [==============================]  Время обучения на эпохе: 0:00:11.612170. loss: 0.2325. accuracy: 0.8411. \n",
            "Эпоха 117 / 220\n",
            "250/250 [==============================]  Время обучения на эпохе: 0:00:11.544390. loss: 0.2314. accuracy: 0.8422. \n",
            "Эпоха 118 / 220\n",
            "250/250 [==============================]  Время обучения на эпохе: 0:00:11.533291. loss: 0.247. accuracy: 0.8434. \n",
            "Эпоха 119 / 220\n",
            "250/250 [==============================]  Время обучения на эпохе: 0:00:11.530327. loss: 0.2509. accuracy: 0.8444. \n",
            "Эпоха 120 / 220\n",
            "250/250 [==============================]  Время обучения на эпохе: 0:00:11.476213. loss: 0.2422. accuracy: 0.8455. \n",
            "Эпоха 121 / 220\n",
            "250/250 [==============================]  Время обучения на эпохе: 0:00:11.453180. loss: 0.2215. accuracy: 0.8466. \n",
            "Эпоха 122 / 220\n",
            "250/250 [==============================]  Время обучения на эпохе: 0:00:11.904611. loss: 0.2053. accuracy: 0.8477. \n",
            "Эпоха 123 / 220\n",
            "250/250 [==============================]  Время обучения на эпохе: 0:00:11.597662. loss: 0.2467. accuracy: 0.8487. \n",
            "Эпоха 124 / 220\n",
            "250/250 [==============================]  Время обучения на эпохе: 0:00:11.572882. loss: 0.3207. accuracy: 0.8496. \n",
            "Эпоха 125 / 220\n",
            "250/250 [==============================]  Время обучения на эпохе: 0:00:11.913524. loss: 0.2063. accuracy: 0.8507. \n",
            "Эпоха 126 / 220\n",
            "250/250 [==============================]  Время обучения на эпохе: 0:00:11.524312. loss: 0.2321. accuracy: 0.8517. \n",
            "Эпоха 127 / 220\n",
            "250/250 [==============================]  Время обучения на эпохе: 0:00:11.772495. loss: 0.202. accuracy: 0.8527. \n",
            "Эпоха 128 / 220\n",
            "250/250 [==============================]  Время обучения на эпохе: 0:00:11.645387. loss: 0.1975. accuracy: 0.8537. \n",
            "Эпоха 129 / 220\n",
            "250/250 [==============================]  Время обучения на эпохе: 0:00:11.459208. loss: 0.202. accuracy: 0.8547. \n",
            "Эпоха 130 / 220\n",
            "250/250 [==============================]  Время обучения на эпохе: 0:00:11.452165. loss: 0.1756. accuracy: 0.8557. \n",
            "Эпоха 131 / 220\n",
            "250/250 [==============================]  Время обучения на эпохе: 0:00:11.461646. loss: 0.2357. accuracy: 0.8566. \n",
            "Эпоха 132 / 220\n",
            "250/250 [==============================]  Время обучения на эпохе: 0:00:11.583219. loss: 0.2722. accuracy: 0.8574. \n",
            "Эпоха 133 / 220\n",
            "250/250 [==============================]  Время обучения на эпохе: 0:00:11.666097. loss: 0.225. accuracy: 0.8583. \n",
            "Эпоха 134 / 220\n",
            "250/250 [==============================]  Время обучения на эпохе: 0:00:11.717807. loss: 0.2201. accuracy: 0.8592. \n",
            "Эпоха 135 / 220\n",
            "250/250 [==============================]  Время обучения на эпохе: 0:00:11.593487. loss: 0.2352. accuracy: 0.8601. \n",
            "Эпоха 136 / 220\n",
            "250/250 [==============================]  Время обучения на эпохе: 0:00:11.489649. loss: 0.1883. accuracy: 0.861. \n",
            "Эпоха 137 / 220\n",
            "250/250 [==============================]  Время обучения на эпохе: 0:00:11.962425. loss: 0.1791. accuracy: 0.8619. \n",
            "Эпоха 138 / 220\n",
            "250/250 [==============================]  Время обучения на эпохе: 0:00:11.684541. loss: 0.2069. accuracy: 0.8627. \n",
            "Эпоха 139 / 220\n",
            "250/250 [==============================]  Время обучения на эпохе: 0:00:11.578999. loss: 0.1801. accuracy: 0.8636. \n",
            "Эпоха 140 / 220\n",
            "250/250 [==============================]  Время обучения на эпохе: 0:00:11.527283. loss: 0.1417. accuracy: 0.8645. \n",
            "Эпоха 141 / 220\n",
            "250/250 [==============================]  Время обучения на эпохе: 0:00:11.629772. loss: 0.1598. accuracy: 0.8654. \n",
            "Эпоха 142 / 220\n",
            "250/250 [==============================]  Время обучения на эпохе: 0:00:11.843633. loss: 0.2097. accuracy: 0.8661. \n",
            "Эпоха 143 / 220\n",
            "250/250 [==============================]  Время обучения на эпохе: 0:00:11.640032. loss: 0.4809. accuracy: 0.8667. \n",
            "Эпоха 144 / 220\n",
            "250/250 [==============================]  Время обучения на эпохе: 0:00:11.632154. loss: 0.1953. accuracy: 0.8675. \n",
            "Эпоха 145 / 220\n",
            "250/250 [==============================]  Время обучения на эпохе: 0:00:11.637785. loss: 0.1806. accuracy: 0.8683. \n",
            "Эпоха 146 / 220\n",
            "250/250 [==============================]  Время обучения на эпохе: 0:00:11.626982. loss: 0.1537. accuracy: 0.8691. \n",
            "Эпоха 147 / 220\n",
            "250/250 [==============================]  Время обучения на эпохе: 0:00:11.730933. loss: 0.1507. accuracy: 0.8699. \n",
            "Эпоха 148 / 220\n",
            "250/250 [==============================]  Время обучения на эпохе: 0:00:11.784263. loss: 0.1398. accuracy: 0.8708. \n",
            "Эпоха 149 / 220\n",
            "250/250 [==============================]  Время обучения на эпохе: 0:00:11.488347. loss: 0.182. accuracy: 0.8715. \n",
            "Эпоха 150 / 220\n",
            "250/250 [==============================]  Время обучения на эпохе: 0:00:11.662388. loss: 0.2013. accuracy: 0.8722. \n",
            "Эпоха 151 / 220\n",
            "250/250 [==============================]  Время обучения на эпохе: 0:00:11.708020. loss: 0.1704. accuracy: 0.873. \n",
            "Эпоха 152 / 220\n",
            "250/250 [==============================]  Время обучения на эпохе: 0:00:11.585946. loss: 0.2001. accuracy: 0.8737. \n",
            "Эпоха 153 / 220\n",
            "250/250 [==============================]  Время обучения на эпохе: 0:00:11.729452. loss: 0.1772. accuracy: 0.8744. \n",
            "Эпоха 154 / 220\n",
            "250/250 [==============================]  Время обучения на эпохе: 0:00:11.596818. loss: 0.1532. accuracy: 0.8751. \n",
            "Эпоха 155 / 220\n",
            "250/250 [==============================]  Время обучения на эпохе: 0:00:11.771785. loss: 0.164. accuracy: 0.8759. \n",
            "Эпоха 156 / 220\n",
            "250/250 [==============================]  Время обучения на эпохе: 0:00:11.587214. loss: 0.186. accuracy: 0.8765. \n",
            "Эпоха 157 / 220\n",
            "250/250 [==============================]  Время обучения на эпохе: 0:00:11.521592. loss: 0.1904. accuracy: 0.8772. \n",
            "Эпоха 158 / 220\n",
            "250/250 [==============================]  Время обучения на эпохе: 0:00:11.737051. loss: 0.2142. accuracy: 0.8779. \n",
            "Эпоха 159 / 220\n",
            "250/250 [==============================]  Время обучения на эпохе: 0:00:11.697649. loss: 0.2138. accuracy: 0.8785. \n",
            "Эпоха 160 / 220\n",
            "250/250 [==============================]  Время обучения на эпохе: 0:00:11.661854. loss: 0.1753. accuracy: 0.8792. \n",
            "Эпоха 161 / 220\n",
            "250/250 [==============================]  Время обучения на эпохе: 0:00:11.577321. loss: 0.1604. accuracy: 0.8798. \n",
            "Эпоха 162 / 220\n",
            "250/250 [==============================]  Время обучения на эпохе: 0:00:11.749905. loss: 0.1431. accuracy: 0.8805. \n",
            "Эпоха 163 / 220\n",
            "250/250 [==============================]  Время обучения на эпохе: 0:00:11.864410. loss: 0.155. accuracy: 0.8812. \n",
            "Эпоха 164 / 220\n",
            "250/250 [==============================]  Время обучения на эпохе: 0:00:12.091627. loss: 0.212. accuracy: 0.8818. \n",
            "Эпоха 165 / 220\n",
            "250/250 [==============================]  Время обучения на эпохе: 0:00:11.704585. loss: 0.186. accuracy: 0.8824. \n",
            "Эпоха 166 / 220\n",
            "250/250 [==============================]  Время обучения на эпохе: 0:00:11.545372. loss: 0.1792. accuracy: 0.883. \n",
            "Эпоха 167 / 220\n",
            "250/250 [==============================]  Время обучения на эпохе: 0:00:11.728648. loss: 0.1572. accuracy: 0.8836. \n",
            "Эпоха 168 / 220\n",
            "250/250 [==============================]  Время обучения на эпохе: 0:00:11.975671. loss: 0.2196. accuracy: 0.8842. \n",
            "Эпоха 169 / 220\n",
            "250/250 [==============================]  Время обучения на эпохе: 0:00:11.691465. loss: 0.1508. accuracy: 0.8848. \n",
            "Эпоха 170 / 220\n",
            "250/250 [==============================]  Время обучения на эпохе: 0:00:11.768293. loss: 0.137. accuracy: 0.8854. \n",
            "Эпоха 171 / 220\n",
            "250/250 [==============================]  Время обучения на эпохе: 0:00:11.801556. loss: 0.1446. accuracy: 0.886. \n",
            "Эпоха 172 / 220\n",
            "250/250 [==============================]  Время обучения на эпохе: 0:00:11.707708. loss: 0.1443. accuracy: 0.8866. \n",
            "Эпоха 173 / 220\n",
            "250/250 [==============================]  Время обучения на эпохе: 0:00:12.041643. loss: 0.1853. accuracy: 0.8872. \n",
            "Эпоха 174 / 220\n",
            "250/250 [==============================]  Время обучения на эпохе: 0:00:11.746304. loss: 0.1978. accuracy: 0.8877. \n",
            "Эпоха 175 / 220\n",
            "250/250 [==============================]  Время обучения на эпохе: 0:00:11.726014. loss: 0.1815. accuracy: 0.8883. \n",
            "Эпоха 176 / 220\n",
            "250/250 [==============================]  Время обучения на эпохе: 0:00:12.010168. loss: 0.1792. accuracy: 0.8888. \n",
            "Эпоха 177 / 220\n",
            "250/250 [==============================]  Время обучения на эпохе: 0:00:11.743889. loss: 0.1543. accuracy: 0.8894. \n",
            "Эпоха 178 / 220\n",
            "250/250 [==============================]  Время обучения на эпохе: 0:00:11.886958. loss: 0.1483. accuracy: 0.8899. \n",
            "Эпоха 179 / 220\n",
            "250/250 [==============================]  Время обучения на эпохе: 0:00:11.739649. loss: 0.1609. accuracy: 0.8904. \n",
            "Эпоха 180 / 220\n",
            "250/250 [==============================]  Время обучения на эпохе: 0:00:11.722482. loss: 0.1808. accuracy: 0.891. \n",
            "Эпоха 181 / 220\n",
            "250/250 [==============================]  Время обучения на эпохе: 0:00:11.716770. loss: 0.1497. accuracy: 0.8915. \n",
            "Эпоха 182 / 220\n",
            "250/250 [==============================]  Время обучения на эпохе: 0:00:11.746283. loss: 0.1567. accuracy: 0.892. \n",
            "Эпоха 183 / 220\n",
            "250/250 [==============================]  Время обучения на эпохе: 0:00:11.839362. loss: 0.1617. accuracy: 0.8925. \n",
            "Эпоха 184 / 220\n",
            "250/250 [==============================]  Время обучения на эпохе: 0:00:11.699737. loss: 0.2013. accuracy: 0.893. \n",
            "Эпоха 185 / 220\n",
            "250/250 [==============================]  Время обучения на эпохе: 0:00:11.690122. loss: 0.1562. accuracy: 0.8935. \n",
            "Эпоха 186 / 220\n",
            "250/250 [==============================]  Время обучения на эпохе: 0:00:11.658961. loss: 0.1429. accuracy: 0.8941. \n",
            "Эпоха 187 / 220\n",
            "250/250 [==============================]  Время обучения на эпохе: 0:00:11.817391. loss: 0.1455. accuracy: 0.8946. \n",
            "Эпоха 188 / 220\n",
            "250/250 [==============================]  Время обучения на эпохе: 0:00:11.671534. loss: 0.1721. accuracy: 0.895. \n",
            "Эпоха 189 / 220\n",
            "250/250 [==============================]  Время обучения на эпохе: 0:00:11.951085. loss: 0.1392. accuracy: 0.8956. \n",
            "Эпоха 190 / 220\n",
            "250/250 [==============================]  Время обучения на эпохе: 0:00:12.323064. loss: 0.1336. accuracy: 0.8961. \n",
            "Эпоха 191 / 220\n",
            "250/250 [==============================]  Время обучения на эпохе: 0:00:12.042780. loss: 0.1438. accuracy: 0.8965. \n",
            "Эпоха 192 / 220\n",
            "250/250 [==============================]  Время обучения на эпохе: 0:00:11.658467. loss: 0.1241. accuracy: 0.897. \n",
            "Эпоха 193 / 220\n",
            "250/250 [==============================]  Время обучения на эпохе: 0:00:11.803950. loss: 0.116. accuracy: 0.8975. \n",
            "Эпоха 194 / 220\n",
            "250/250 [==============================]  Время обучения на эпохе: 0:00:11.885431. loss: 0.13. accuracy: 0.898. \n",
            "Эпоха 195 / 220\n",
            "250/250 [==============================]  Время обучения на эпохе: 0:00:12.031417. loss: 0.1739. accuracy: 0.8985. \n",
            "Эпоха 196 / 220\n",
            "250/250 [==============================]  Время обучения на эпохе: 0:00:11.974718. loss: 0.1758. accuracy: 0.8989. \n",
            "Эпоха 197 / 220\n",
            "250/250 [==============================]  Время обучения на эпохе: 0:00:11.758780. loss: 0.155. accuracy: 0.8994. \n",
            "Эпоха 198 / 220\n",
            "250/250 [==============================]  Время обучения на эпохе: 0:00:12.057893. loss: 0.1228. accuracy: 0.8998. \n",
            "Эпоха 199 / 220\n",
            "250/250 [==============================]  Время обучения на эпохе: 0:00:11.784199. loss: 0.1425. accuracy: 0.9003. \n",
            "Эпоха 200 / 220\n",
            "250/250 [==============================]  Время обучения на эпохе: 0:00:11.874541. loss: 0.126. accuracy: 0.9007. \n",
            "Эпоха 201 / 220\n",
            "250/250 [==============================]  Время обучения на эпохе: 0:00:12.026673. loss: 0.1242. accuracy: 0.9012. \n",
            "Эпоха 202 / 220\n",
            "250/250 [==============================]  Время обучения на эпохе: 0:00:11.900880. loss: 0.1569. accuracy: 0.9016. \n",
            "Эпоха 203 / 220\n",
            "250/250 [==============================]  Время обучения на эпохе: 0:00:11.952406. loss: 0.132. accuracy: 0.902. \n",
            "Эпоха 204 / 220\n",
            "250/250 [==============================]  Время обучения на эпохе: 0:00:12.028005. loss: 0.1193. accuracy: 0.9025. \n",
            "Эпоха 205 / 220\n",
            "250/250 [==============================]  Время обучения на эпохе: 0:00:11.903579. loss: 0.1992. accuracy: 0.9029. \n",
            "Эпоха 206 / 220\n",
            "250/250 [==============================]  Время обучения на эпохе: 0:00:11.904518. loss: 0.1816. accuracy: 0.9032. \n",
            "Эпоха 207 / 220\n",
            "250/250 [==============================]  Время обучения на эпохе: 0:00:11.838628. loss: 0.1452. accuracy: 0.9037. \n",
            "Эпоха 208 / 220\n",
            "250/250 [==============================]  Время обучения на эпохе: 0:00:11.788158. loss: 0.1374. accuracy: 0.9041. \n",
            "Эпоха 209 / 220\n",
            "250/250 [==============================]  Время обучения на эпохе: 0:00:12.022703. loss: 0.124. accuracy: 0.9045. \n",
            "Эпоха 210 / 220\n",
            "250/250 [==============================]  Время обучения на эпохе: 0:00:11.928440. loss: 0.192. accuracy: 0.9049. \n",
            "Эпоха 211 / 220\n",
            "250/250 [==============================]  Время обучения на эпохе: 0:00:11.819747. loss: 0.1817. accuracy: 0.9052. \n",
            "Эпоха 212 / 220\n",
            "250/250 [==============================]  Время обучения на эпохе: 0:00:11.713800. loss: 0.1335. accuracy: 0.9056. \n",
            "Эпоха 213 / 220\n",
            "250/250 [==============================]  Время обучения на эпохе: 0:00:11.918348. loss: 0.1202. accuracy: 0.906. \n",
            "Эпоха 214 / 220\n",
            "250/250 [==============================]  Время обучения на эпохе: 0:00:11.853501. loss: 0.1453. accuracy: 0.9064. \n",
            "Эпоха 215 / 220\n",
            "250/250 [==============================]  Время обучения на эпохе: 0:00:11.892468. loss: 0.1783. accuracy: 0.9068. \n",
            "Эпоха 216 / 220\n",
            "250/250 [==============================]  Время обучения на эпохе: 0:00:12.050308. loss: 0.1734. accuracy: 0.9072. \n",
            "Эпоха 217 / 220\n",
            "250/250 [==============================]  Время обучения на эпохе: 0:00:12.287607. loss: 0.2046. accuracy: 0.9075. \n",
            "Эпоха 218 / 220\n",
            "250/250 [==============================]  Время обучения на эпохе: 0:00:12.054887. loss: 0.1507. accuracy: 0.9079. \n",
            "Эпоха 219 / 220\n",
            "250/250 [==============================]  Время обучения на эпохе: 0:00:11.814254. loss: 0.1425. accuracy: 0.9082. \n",
            "Эпоха 220 / 220\n",
            "250/250 [==============================]  Время обучения на эпохе: 0:00:11.835474. loss: 0.0993. accuracy: 0.9086. \n"
          ],
          "name": "stdout"
        }
      ]
    },
    {
      "cell_type": "markdown",
      "metadata": {
        "id": "oPGLmrllIHnm"
      },
      "source": [
        "**Посмотрим на результат работы сети**"
      ]
    },
    {
      "cell_type": "code",
      "metadata": {
        "colab": {
          "base_uri": "https://localhost:8080/",
          "height": 1000
        },
        "id": "x9uIwXQKQhHa",
        "outputId": "55433bb0-05d9-43b5-bb75-9e7423851eee"
      },
      "source": [
        "#Выводим для примера картинки по каждому классу\n",
        "print('Сеть распознала изображения: ')\n",
        "fig, axs = plt.subplots(10, 1, figsize=(320, 32)) #Создаем полотно из 10 графиков\n",
        "for i in range(10): #Проходим по классам от 0 до 9\n",
        "  label_indexes = np.where(np.argmax(y_test, axis = 1)==i)[0] #Получаем список из индексов положений класса i в y_test\n",
        "  index = random.choice(label_indexes) #Случайным образом выбираем из списка индекс\n",
        "  img = x_test[index] #Выбираем из x_train нужное изображение\n",
        "  #выведем результат распознования для каждой картинки\n",
        "  axs[i].set_title(classes[i] + \", распознано как \" + classes[np.argmax(model(img[None,]))], fontdict={'size': 14})\n",
        "  axs[i].imshow(img.reshape(32, 32, 3)) #Отображаем изображение i-ым графиков\n",
        "plt.show() #Показываем изображения"
      ],
      "execution_count": null,
      "outputs": [
        {
          "output_type": "stream",
          "text": [
            "Сеть распознала изображения: \n"
          ],
          "name": "stdout"
        },
        {
          "output_type": "display_data",
          "data": {
            "image/png": "[encoded data removed]",
            "text/plain": [
              "<Figure size 23040x2304 with 10 Axes>"
            ]
          },
          "metadata": {
            "tags": [],
            "needs_background": "light"
          }
        }
      ]
    },
    {
      "cell_type": "markdown",
      "metadata": {
        "id": "YX0GRYc6HBTV"
      },
      "source": [
        "**Итоги:** как видим созданная Полносвязная сеть состоящая из двух Dence слоев дала неплохой результат."
      ]
    }
  ]
}